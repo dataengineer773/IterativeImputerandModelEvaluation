{
 "cells": [
  {
   "cell_type": "code",
   "execution_count": 7,
   "id": "906da11d-0e8d-4db4-a8ef-17b7d3de2e84",
   "metadata": {},
   "outputs": [],
   "source": [
    "# evaluate iterative imputation and random forest for the horse coilc dataset\n",
    "from numpy import mean\n",
    "from numpy import std\n",
    "from sklearn.ensemble import RandomForestClassifier\n",
    "from sklearn.pipeline import Pipeline\n",
    "from sklearn.model_selection import RepeatedStratifiedKFold\n",
    "from sklearn.model_selection import cross_val_score\n",
    "from pandas import read_csv\n",
    "from sklearn.experimental import enable_iterative_imputer\n",
    "from sklearn.impute import IterativeImputer"
   ]
  },
  {
   "cell_type": "code",
   "execution_count": 8,
   "id": "623ae2a0-c8b3-496c-97a0-f70eae2e6ab8",
   "metadata": {},
   "outputs": [],
   "source": [
    "# load dataset\n",
    "dataframe = read_csv('horse-colic.csv', header=0, na_values='?')"
   ]
  },
  {
   "cell_type": "code",
   "execution_count": 9,
   "id": "641e6d8f-9116-4818-9260-4a20a98d0b67",
   "metadata": {},
   "outputs": [],
   "source": [
    "# split into input and output elements\n",
    "data = dataframe.values\n",
    "ix = [i for i in range(data.shape[1]) if i != 23]\n",
    "X, y = data[:, ix], data[:, 23]"
   ]
  },
  {
   "cell_type": "code",
   "execution_count": 10,
   "id": "8f00fedb-53af-452e-9b32-34236f2d6297",
   "metadata": {},
   "outputs": [],
   "source": [
    "# define modeling pipeline\n",
    "model = RandomForestClassifier()\n",
    "imputer = IterativeImputer()\n",
    "pipeline = Pipeline(steps=[('i', imputer), ('m', model)])"
   ]
  },
  {
   "cell_type": "code",
   "execution_count": 11,
   "id": "c758cade-b7b0-46a8-84f8-eb8bc45d4a54",
   "metadata": {},
   "outputs": [],
   "source": [
    "# define model evaluation\n",
    "cv = RepeatedStratifiedKFold(n_splits=10, n_repeats=3, random_state=1)"
   ]
  },
  {
   "cell_type": "code",
   "execution_count": 12,
   "id": "5c1d8a58-c1d6-4b7a-88fd-0ccec0a432d4",
   "metadata": {},
   "outputs": [
    {
     "name": "stdout",
     "output_type": "stream",
     "text": [
      "MEAN ACCURACY: 0.868 (0.060)\n"
     ]
    }
   ],
   "source": [
    "# evaluate model\n",
    "scores = cross_val_score(pipeline, X, y, scoring='accuracy', cv=cv, n_jobs=-1)\n",
    "print('MEAN ACCURACY: %.3f (%.3f)' % (mean(scores), std(scores)))"
   ]
  },
  {
   "cell_type": "code",
   "execution_count": null,
   "id": "a784338a-d2e3-49d2-95cd-e97ed8fbbbdd",
   "metadata": {},
   "outputs": [],
   "source": []
  }
 ],
 "metadata": {
  "kernelspec": {
   "display_name": "Python 3 (ipykernel)",
   "language": "python",
   "name": "python3"
  },
  "language_info": {
   "codemirror_mode": {
    "name": "ipython",
    "version": 3
   },
   "file_extension": ".py",
   "mimetype": "text/x-python",
   "name": "python",
   "nbconvert_exporter": "python",
   "pygments_lexer": "ipython3",
   "version": "3.10.12"
  }
 },
 "nbformat": 4,
 "nbformat_minor": 5
}
